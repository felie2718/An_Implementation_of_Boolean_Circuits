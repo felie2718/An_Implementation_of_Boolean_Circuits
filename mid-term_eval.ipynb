{
 "cells": [
  {
   "cell_type": "markdown",
   "metadata": {},
   "source": [
    "# Mid-term evaluation report\n",
    "**Team members**:\n",
    "- Alex Scofield Teruel\n",
    "- Hugo Taille Manikom\n",
    "- François-Elie Ingwer"
   ]
  },
  {
   "cell_type": "markdown",
   "metadata": {},
   "source": [
    "The following document details and justifies the architectural and implementation choices that have been made during the (first-half) of the development of the boolean circuits project."
   ]
  },
  {
   "cell_type": "markdown",
   "metadata": {},
   "source": [
    "## Development process"
   ]
  },
  {
   "cell_type": "markdown",
   "metadata": {},
   "source": [
    "We have put into practice non-strict test-driven development. This is why some tests are skipped; in order not to clutter the output with failures of tests of functions that have still not been implemented, such as some functions from weeks four and five."
   ]
  },
  {
   "cell_type": "markdown",
   "metadata": {},
   "source": [
    "We use _Git_ as our VCS and have a private remote repository on _GitLab_. Given the limited-size of our team and that the project's size is still manageable, we have decided to develop directly on the _main_ branch, thus reducing the complexity of our project. This is subject to change as the project grows."
   ]
  },
  {
   "cell_type": "markdown",
   "metadata": {},
   "source": [
    "## Project Architecture"
   ]
  },
  {
   "cell_type": "markdown",
   "metadata": {},
   "source": [
    "In order to maximise the modularity and extensability of the repository, whilst mantaining a cohesive structure well-adapted to the dimensions of the project, the code has been divided into three distinct parts:\n",
    "- The modules _open_digraph.py_ and _adjacency_matrices.py_, in the _modules_ directory.\n",
    "- Tests for the _open_digraph.py_ module (where all of the functions that are meant to be accessed when using this project are implemented) in the _open_digraph_tests.py_ file in the _tests_ directory\n",
    "- Entry points, in the root of the repository, discussed below."
   ]
  },
  {
   "cell_type": "markdown",
   "metadata": {},
   "source": [
    "The repository contains three distinct entry points. \n",
    "1. _run_tests.py_: Conveniently runs all of the project's tests. For the moment these are all contained in a single file, but the choice to extract the entry point to this easily accessible test runner allows further tests to be ran automatically. One must be placed in the root directory of the repository in order to run this script.\n",
    "\n",
    "2. _worksheet.py_: To be used as a scratchbook. Here is where the project can be easily used and manually tested, without cluttering the _modules_ directory. No new functionality should be implemented here.\n",
    "3. _mid-term_eval.ipynb_: The current file. Demonstrates some of the fundamental functionalities of the project. Notably, adjacency matrices and composition of open directed graphs."
   ]
  },
  {
   "cell_type": "markdown",
   "metadata": {},
   "source": [
    "In the root of the repository there is also a _requirements.txt_ file containing all of the different python modules used. In order to minimise coupling these dependancies are kept at the strict minimum (currently 0!). There is also a _media_ directory containing the images used throughout this notebook."
   ]
  },
  {
   "cell_type": "markdown",
   "metadata": {},
   "source": [
    "Finally, each member of the team posseses their own _.gitignore_ file adapted to their specific development environment. In early commits this file was shared among the developers, but has been removed from the VCS for convenience."
   ]
  },
  {
   "cell_type": "markdown",
   "metadata": {},
   "source": [
    "### Usage guidelines\n",
    "The _node_ class should not be accessed externally. In other words, the _API_ of this project currently consists of the public attributes and methods of the _open_digraph_ class. All public methods have been concisely documented directly within the source code. As the projeect grows a tool such as _Sphynx_ could be use to automatically generate docs, but for the time being we have considered that this would unnecessarily complexify the project.\n",
    "\n",
    "**All functions, attributes and methods whose name begins with an undescore are private and thus should not be accessed directly!** Getter and setter methods are provided where relevant.\n",
    "\n",
    "The tests (located in the _test_ directory) serve as simple examples of usage, showing how each function is expected to be called. However, it is important to note that it is preferable to use the _add_node()_ method of _open_digraph_ instead of adding the nodes manually, as is often done throughout the tests in order to make comparisons more explicit."
   ]
  },
  {
   "cell_type": "markdown",
   "metadata": {},
   "source": [
    "## Part 3 (Adjacency Matrices)"
   ]
  },
  {
   "cell_type": "markdown",
   "metadata": {},
   "source": [
    "The _adjacency_matrices.py_ module provides a minimal interface to create random adjacency matrices corresponding to different types of graphs. It is used in _open_digraph.py_ to construct random instances of different types of graphs, subject to user-specified cardinality constraints. It is important to note that this module does not include any dependancies, and could thus be extended directly in other ways."
   ]
  },
  {
   "cell_type": "markdown",
   "metadata": {},
   "source": [
    "_adjacency_matrices.py_ only includes three functions: \n",
    "- _random_int_list(n, bound)_ \n",
    "- _random_dag_int_matrix(n, bound, null_diag = True)_\n",
    "- _random_matrix(n, bound, null_diag=True, symmetric=False, oriented=False, dag=False)_"
   ]
  },
  {
   "cell_type": "markdown",
   "metadata": {},
   "source": [
    "Given that this module is not meant to be accessed directly; since the public _API_ of the project is limited to the public attributes and methods of the _open_digraph_ class, the methods implemented in this module are not tested directly, but are instead tested through the methods of _open_digraph_ which use them."
   ]
  },
  {
   "cell_type": "markdown",
   "metadata": {},
   "source": [
    "For convenience, the implementation of the _adjacency_matrices.py_ module can be viewed directly by executing the cell below; or, of course, by opening the _adjacency_matrices.py_ file, located in the _modules_ directory."
   ]
  },
  {
   "cell_type": "code",
   "execution_count": 1,
   "metadata": {},
   "outputs": [
    {
     "name": "stdout",
     "output_type": "stream",
     "text": [
      "import random\n",
      "\n",
      "def random_int_list(n, bound):\n",
      "    '''\n",
      "    n: int; Number of elements in the list\n",
      "    bound: int; Maximum possible integer\n",
      "    Generates a random list of length n, with integers from 0 to bound\n",
      "    '''\n",
      "    return [random.randrange(0, bound+1) for _ in range(n)]\n",
      "\n",
      "def random_matrix(n, bound,null_diag=True, symmetric=False, oriented=False):\n",
      "    '''\n",
      "    n: int; Number of elements in the list\n",
      "    bound: int; Maximum possible integer\n",
      "    null_diag: bool; If True, nodes cannot connect with themselves\n",
      "    symmetric: bool; If True, generates a symmetric graph\n",
      "    oriented: bool; If True, generates an oriented graph\n",
      "    dag: bool; If True, generates a directides acyclic graph\n",
      "    Generates a random matrix of size n, with integers from 0 to bound\n",
      "    '''\n",
      "    M = [random_int_list(n, bound) for _ in range(n)]\n",
      "\n",
      "    if null_diag:\n",
      "        for i in range(n):\n",
      "            M[i][i] = 0\n",
      "\n",
      "    if symmetric:\n",
      "        for i in range(n):\n",
      "            for j in range(i):\n",
      "                M[j][i] = M[i][j]\n",
      "    \n",
      "    if oriented:\n",
      "        for i in range(n):\n",
      "            for j in range(i):\n",
      "                if M[j][i] != 0:\n",
      "                    M[i][j] = 0\n",
      "\n",
      "    return M\n",
      "\n",
      "def random_dag_int_matrix(n, bound, null_diag = True):\n",
      "    M = random_matrix(n, bound, null_diag, False, True)\n",
      "    for i in range(n):\n",
      "            for j in range(i):\n",
      "                M[i][j] = 0\n",
      "    return M\n",
      "\n"
     ]
    }
   ],
   "source": [
    "import inspect\n",
    "import modules.adjacency_matrices\n",
    "module_source_code = inspect.getsource(modules.adjacency_matrices)\n",
    "print(module_source_code)"
   ]
  },
  {
   "cell_type": "markdown",
   "metadata": {},
   "source": [
    "## Part 6 (Composition)"
   ]
  },
  {
   "cell_type": "markdown",
   "metadata": {},
   "source": [
    "Through the use of a class called _CompositionTest_ and two subclasses thereof, both parallel and sequential composition have been thoroughly tested for graphs such as the following:"
   ]
  },
  {
   "cell_type": "markdown",
   "metadata": {},
   "source": [
    "### Graph 1\n",
    "![gr1](media/gr1.png)\n",
    "\n",
    "### Graph 2\n",
    "![gr2](media/gr2.png)"
   ]
  },
  {
   "cell_type": "markdown",
   "metadata": {},
   "source": [
    "### Parallel composition\n",
    "![parallel](media/parallel_composition.png)"
   ]
  },
  {
   "cell_type": "markdown",
   "metadata": {},
   "source": [
    "### Sequential composition\n",
    "![sequential](media/sequential_composition.png)"
   ]
  },
  {
   "cell_type": "markdown",
   "metadata": {},
   "source": [
    "For convenience the implementation of both types of compositions can be obtained by executing the cells below (as well as in _open_digraph.py_)."
   ]
  },
  {
   "cell_type": "markdown",
   "metadata": {},
   "source": [
    "### iparallel"
   ]
  },
  {
   "cell_type": "code",
   "execution_count": 4,
   "metadata": {},
   "outputs": [
    {
     "name": "stdout",
     "output_type": "stream",
     "text": [
      "    def iparallel(self, g):\n",
      "\n",
      "        '''\n",
      "\n",
      "        g: open_digraph; graph to be composed in parallel with self\n",
      "\n",
      "        Modifies the current graph by composing it in parallel with the graph passed as a parameter\n",
      "\n",
      "        '''\n",
      "\n",
      "        g = g.copy()\n",
      "\n",
      "        if self.get_nodes() != [] and g.get_nodes() != []:\n",
      "\n",
      "            g.shift_indices(self.max_id() - g.min_id() + 1)\n",
      "\n",
      "\n",
      "\n",
      "        self._inputs.extend(g.get_input_ids())\n",
      "\n",
      "        self._outputs.extend(g.get_output_ids())\n",
      "\n",
      "\n",
      "\n",
      "        for id, node in g.get_node_map().items():\n",
      "\n",
      "            self._nodes[id] = node\n",
      "\n"
     ]
    }
   ],
   "source": [
    "import inspect\n",
    "import modules.open_digraph\n",
    "\n",
    "def print_method_source(method):\n",
    "    source_lines, _ = inspect.getsourcelines(method)\n",
    "    for line in source_lines:\n",
    "        print(line)\n",
    "\n",
    "print_method_source(modules.open_digraph.open_digraph.iparallel)"
   ]
  },
  {
   "cell_type": "markdown",
   "metadata": {},
   "source": [
    "### parallel (class method)"
   ]
  },
  {
   "cell_type": "code",
   "execution_count": 5,
   "metadata": {},
   "outputs": [
    {
     "name": "stdout",
     "output_type": "stream",
     "text": [
      "    @classmethod\n",
      "\n",
      "    def parallel(cls, g1, g2):\n",
      "\n",
      "        '''\n",
      "\n",
      "        g1: open_digraph; first graph of composition\n",
      "\n",
      "        g2: open_digraph; second graph of composition\n",
      "\n",
      "        Returns the parallel composition of the parameter graphs\n",
      "\n",
      "        Note that the operation is not strictly commutative, but will return isomorphic graphs\n",
      "\n",
      "        '''\n",
      "\n",
      "        composition = g1.copy()\n",
      "\n",
      "        composition.iparallel(g2)\n",
      "\n",
      "        return composition\n",
      "\n"
     ]
    }
   ],
   "source": [
    "print_method_source(modules.open_digraph.open_digraph.parallel)"
   ]
  },
  {
   "cell_type": "markdown",
   "metadata": {},
   "source": [
    "### icompose"
   ]
  },
  {
   "cell_type": "code",
   "execution_count": 6,
   "metadata": {},
   "outputs": [
    {
     "name": "stdout",
     "output_type": "stream",
     "text": [
      "    def icompose(self, f):\n",
      "\n",
      "        '''\n",
      "\n",
      "        f: open_digraph; graph to be composed sequentially with self\n",
      "\n",
      "        Modifies the current graph by composing it (if possible) in sequence with the graph passed as a parameter\n",
      "\n",
      "        '''\n",
      "\n",
      "        if len(self.get_input_ids()) != len(f.get_output_ids()):\n",
      "\n",
      "            raise ValueError(\"Number of inputs of the first graph does not match the number of outputs of the second graph.\")\n",
      "\n",
      "        \n",
      "\n",
      "        f = f.copy()\n",
      "\n",
      "\n",
      "\n",
      "        if self.get_nodes() != [] and f.get_nodes() != []:\n",
      "\n",
      "            self.shift_indices(f.max_id() - self.min_id() + 1)\n",
      "\n",
      "        \n",
      "\n",
      "        for id, node in f.get_node_map().items():\n",
      "\n",
      "            self._nodes[id] = node.copy()\n",
      "\n",
      "\n",
      "\n",
      "\n",
      "\n",
      "        prev_inputs = self.get_input_ids()\n",
      "\n",
      "        self._inputs = f.get_input_ids()\n",
      "\n",
      "        for input_id, output_id in zip(prev_inputs, f.get_output_ids()):\n",
      "\n",
      "            self.add_edge(output_id, input_id)\n",
      "\n"
     ]
    }
   ],
   "source": [
    "print_method_source(modules.open_digraph.open_digraph.icompose)"
   ]
  },
  {
   "cell_type": "markdown",
   "metadata": {},
   "source": [
    "### compose (class method)"
   ]
  },
  {
   "cell_type": "code",
   "execution_count": 7,
   "metadata": {},
   "outputs": [
    {
     "name": "stdout",
     "output_type": "stream",
     "text": [
      "    @classmethod\n",
      "\n",
      "    def compose(cls, g1, g2):\n",
      "\n",
      "        '''\n",
      "\n",
      "        g1: open_digraph; first graph of composition\n",
      "\n",
      "        g2: open_digraph; second graph of composition\n",
      "\n",
      "        Returns the composition of the parameter graphs\n",
      "\n",
      "        Note that the operation is not strictly commutative\n",
      "\n",
      "        '''\n",
      "\n",
      "        g1 = g1.copy()\n",
      "\n",
      "        g1.icompose(g2)\n",
      "\n",
      "        return g1\n",
      "\n"
     ]
    }
   ],
   "source": [
    "print_method_source(modules.open_digraph.open_digraph.compose)"
   ]
  },
  {
   "cell_type": "markdown",
   "metadata": {},
   "source": [
    "The code concerning connected components can be obtained by executing the following cell (or in _open_digraph.py_). In order to find the connected components of a graph, we use a DFS."
   ]
  },
  {
   "cell_type": "code",
   "execution_count": 8,
   "metadata": {},
   "outputs": [
    {
     "name": "stdout",
     "output_type": "stream",
     "text": [
      "    def separate_connected_components(self):\n",
      "\n",
      "        '''\n",
      "\n",
      "        Separates the circuit into its connected components.\n",
      "\n",
      "        Returns a list of open_digraph objects representing the connected components.\n",
      "\n",
      "        '''\n",
      "\n",
      "        connected_components = []\n",
      "\n",
      "        visited = set()\n",
      "\n",
      "\n",
      "\n",
      "        def dfs(node_id, component):\n",
      "\n",
      "            if node_id not in visited:\n",
      "\n",
      "                visited.add(node_id)\n",
      "\n",
      "                component.append(node_id)\n",
      "\n",
      "                for child_id in self._nodes[node_id].get_children():\n",
      "\n",
      "                    dfs(child_id, component)\n",
      "\n",
      "                for parent_id in self._nodes[node_id].get_parents():\n",
      "\n",
      "                    dfs(parent_id, component)\n",
      "\n",
      "\n",
      "\n",
      "        for node_id in self.get_node_ids():\n",
      "\n",
      "            if node_id not in visited:\n",
      "\n",
      "                component = []\n",
      "\n",
      "                dfs(node_id, component)\n",
      "\n",
      "                connected_components.append(component)\n",
      "\n",
      "\n",
      "\n",
      "        components_graphs = []\n",
      "\n",
      "        for component in connected_components:\n",
      "\n",
      "            component_graph = open_digraph.empty()\n",
      "\n",
      "            for node_id in component:\n",
      "\n",
      "                node = self.get_node_by_id(node_id)\n",
      "\n",
      "                component_graph.add_node(label=node.get_label(), parents=node.get_parents(), children=node.get_children())\n",
      "\n",
      "            components_graphs.append(component_graph)\n",
      "\n",
      "\n",
      "\n",
      "        return components_graphs\n",
      "\n"
     ]
    }
   ],
   "source": [
    "print_method_source(modules.open_digraph.open_digraph.separate_connected_components)"
   ]
  }
 ],
 "metadata": {
  "kernelspec": {
   "display_name": "Python 3",
   "language": "python",
   "name": "python3"
  },
  "language_info": {
   "codemirror_mode": {
    "name": "ipython",
    "version": 3
   },
   "file_extension": ".py",
   "mimetype": "text/x-python",
   "name": "python",
   "nbconvert_exporter": "python",
   "pygments_lexer": "ipython3",
   "version": "3.10.11"
  }
 },
 "nbformat": 4,
 "nbformat_minor": 2
}
